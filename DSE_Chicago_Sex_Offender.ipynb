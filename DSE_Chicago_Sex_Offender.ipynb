{
  "nbformat": 4,
  "nbformat_minor": 0,
  "metadata": {
    "colab": {
      "provenance": [],
      "collapsed_sections": [
        "7QR1a9Rh5BTd",
        "olrT-HDO01O2",
        "B3tfkzns05lX",
        "4gTU7cu51xD7",
        "xNnxyIZJ15a1",
        "GkpySz7H2r9T",
        "GRjM4Ht33Gcg",
        "e5Njbmaj3ePN",
        "f61G8gxZ9s1d",
        "C2TC0FlcBVuA",
        "YoxRXaP8CmDD",
        "T3YYiWZxjR_v"
      ]
    },
    "kernelspec": {
      "name": "python3",
      "display_name": "Python 3"
    }
  },
  "cells": [
    {
      "cell_type": "markdown",
      "metadata": {
        "id": "jRCmWXCqy0d3"
      },
      "source": [
        "#Chicago Sex Offender Data"
      ]
    },
    {
      "cell_type": "markdown",
      "metadata": {
        "id": "MJS9DQI-zPrW"
      },
      "source": [
        "##Importing and Reading"
      ]
    },
    {
      "cell_type": "markdown",
      "metadata": {
        "id": "7QR1a9Rh5BTd"
      },
      "source": [
        "###Reading Sex Offender Data From Website\n",
        "Here we will read the data from the city of Chicago's website and store it in a dataframe"
      ]
    },
    {
      "cell_type": "code",
      "metadata": {
        "id": "fJH3McSTcV_x",
        "outputId": "c003ff54-8967-47e1-da8a-e284c031afb7",
        "colab": {
          "base_uri": "https://localhost:8080/",
          "height": 368
        }
      },
      "source": [
        "import pandas as pd\n",
        "!pip install sodapy\n",
        "from sodapy import Socrata\n",
        "\n",
        "import seaborn as sns\n",
        "import matplotlib.pyplot as plt\n",
        "%matplotlib inline\n",
        "from sklearn.preprocessing import Normalizer\n",
        "\n",
        "client = Socrata(\"data.cityofchicago.org\", None)\n",
        "\n",
        "results = client.get(\"vc9r-bqvy\", limit=2000)\n",
        "sex_offender_df = pd.DataFrame.from_records(results)"
      ],
      "execution_count": null,
      "outputs": [
        {
          "output_type": "stream",
          "text": [
            "Collecting sodapy\n",
            "  Downloading https://files.pythonhosted.org/packages/ae/e9/99b640c13544f03fc8d169fc99811d834a0d69ba5a69c68a3e891962ae5d/sodapy-1.5.4-py2.py3-none-any.whl\n",
            "Collecting future>=0.17.1 (from sodapy)\n",
            "\u001b[?25l  Downloading https://files.pythonhosted.org/packages/90/52/e20466b85000a181e1e144fd8305caf2cf475e2f9674e797b222f8105f5f/future-0.17.1.tar.gz (829kB)\n",
            "\u001b[K     |████████████████████████████████| 829kB 7.3MB/s \n",
            "\u001b[?25hRequirement already satisfied: requests>=2.20.0 in /usr/local/lib/python3.6/dist-packages (from sodapy) (2.21.0)\n",
            "Requirement already satisfied: chardet<3.1.0,>=3.0.2 in /usr/local/lib/python3.6/dist-packages (from requests>=2.20.0->sodapy) (3.0.4)\n",
            "Requirement already satisfied: urllib3<1.25,>=1.21.1 in /usr/local/lib/python3.6/dist-packages (from requests>=2.20.0->sodapy) (1.24.3)\n",
            "Requirement already satisfied: idna<2.9,>=2.5 in /usr/local/lib/python3.6/dist-packages (from requests>=2.20.0->sodapy) (2.8)\n",
            "Requirement already satisfied: certifi>=2017.4.17 in /usr/local/lib/python3.6/dist-packages (from requests>=2.20.0->sodapy) (2019.6.16)\n",
            "Building wheels for collected packages: future\n",
            "  Building wheel for future (setup.py) ... \u001b[?25l\u001b[?25hdone\n",
            "  Created wheel for future: filename=future-0.17.1-cp36-none-any.whl size=488730 sha256=014518edb95abdcb48556e029d368651aa2ba214e0bb3f904bb76f768d1a66e4\n",
            "  Stored in directory: /root/.cache/pip/wheels/0c/61/d2/d6b7317325828fbb39ee6ad559dbe4664d0896da4721bf379e\n",
            "Successfully built future\n",
            "Installing collected packages: future, sodapy\n",
            "  Found existing installation: future 0.16.0\n",
            "    Uninstalling future-0.16.0:\n",
            "      Successfully uninstalled future-0.16.0\n",
            "Successfully installed future-0.17.1 sodapy-1.5.4\n"
          ],
          "name": "stdout"
        },
        {
          "output_type": "stream",
          "text": [
            "WARNING:root:Requests made without an app_token will be subject to strict throttling limits.\n"
          ],
          "name": "stderr"
        }
      ]
    },
    {
      "cell_type": "markdown",
      "metadata": {
        "id": "olrT-HDO01O2"
      },
      "source": [
        "##Cleaning Data"
      ]
    },
    {
      "cell_type": "markdown",
      "metadata": {
        "id": "B3tfkzns05lX"
      },
      "source": [
        "###Removing Females From the Dataframe\n",
        "Because there are so few female sex offenders in this list (only about 22 of over 1000 records), I have decided to focus solely on male sex offenders."
      ]
    },
    {
      "cell_type": "code",
      "metadata": {
        "id": "b3PJYa3oaXoK"
      },
      "source": [
        "sex_offender_df=sex_offender_df[sex_offender_df.gender != 'FEMALE']"
      ],
      "execution_count": null,
      "outputs": []
    },
    {
      "cell_type": "markdown",
      "metadata": {
        "id": "4gTU7cu51xD7"
      },
      "source": [
        "###Removing Duplicate Values"
      ]
    },
    {
      "cell_type": "code",
      "metadata": {
        "id": "sCGMUgnJYZTG"
      },
      "source": [
        "sex_offender_df.drop_duplicates(inplace=True)"
      ],
      "execution_count": null,
      "outputs": []
    },
    {
      "cell_type": "markdown",
      "metadata": {
        "id": "xNnxyIZJ15a1"
      },
      "source": [
        "###Dropping Unnecessary Columns\n",
        "We do not need the names of the offenders, thus we can drop last and first (name), the block data is censored anyway and we will not be using it, so we can drop that too, the gender column is unnecessary since we only have males left after removing the females, and the birth_date column is superfluous since we already have the age of the offenders."
      ]
    },
    {
      "cell_type": "code",
      "metadata": {
        "id": "7zbSGb_kYnOX"
      },
      "source": [
        "sex_offender_df.drop(['last','first','block','gender','birth_date'] , axis=1 , inplace=True)"
      ],
      "execution_count": null,
      "outputs": []
    },
    {
      "cell_type": "markdown",
      "metadata": {
        "id": "GkpySz7H2r9T"
      },
      "source": [
        "###Combining Black and White Hispanics\n",
        "Because there are so few black hispanics (5), we will be grouping white and black hispanics into one encompassing term of \"Hispanics\"."
      ]
    },
    {
      "cell_type": "code",
      "metadata": {
        "id": "W7Lm9aLLKGvG"
      },
      "source": [
        "hispanic_bucket = {'WHITE HISPANIC':'HISPANIC',\n",
        "            'BLACK HISPANIC':'HISPANIC'}\n",
        "\n",
        "sex_offender_df['race'] = sex_offender_df['race'].replace(hispanic_bucket)"
      ],
      "execution_count": null,
      "outputs": []
    },
    {
      "cell_type": "markdown",
      "metadata": {
        "id": "GRjM4Ht33Gcg"
      },
      "source": [
        "###Formatting Hieght, Weight, and Age as Numbers\n",
        "The height, weight, and age columns are strings, so we'll have to convert them so python knows that they are numbers."
      ]
    },
    {
      "cell_type": "code",
      "metadata": {
        "id": "4uIAEGwKZeSx"
      },
      "source": [
        "sex_offender_df['height']=sex_offender_df['height'].astype(float)\n",
        "sex_offender_df['weight']=sex_offender_df['weight'].astype(float)\n",
        "sex_offender_df['age']=sex_offender_df['age'].astype(float)"
      ],
      "execution_count": null,
      "outputs": []
    },
    {
      "cell_type": "markdown",
      "metadata": {
        "id": "e5Njbmaj3ePN"
      },
      "source": [
        "###Correcting the Format of the Height Column\n",
        "The height column is given in a weird way. It is given in a 3 digit number, the first representing the feet, and the last two representing the inches. Thus 5 foot 11 inches becomes 511. This becomes difficult to read and can mess up averages. Instead we will convert these heights to height in inches only, so 5 foot 11 inches becomes 71. There are also some clearly inccorect values such as 60, or 245. It is not clear what these are meant to represent (is 60 meant to be 600 or 60 inches), so we will give these values the median height. We will look for numbers whose last 2 digits are greater than 12 or if the number as a whole is too small (less than 2 feet tall)."
      ]
    },
    {
      "cell_type": "code",
      "metadata": {
        "id": "8YQYh5QVxxwj"
      },
      "source": [
        "sex_offender_df.loc[sex_offender_df.height < 200, 'height'] = sex_offender_df.loc[:,\"height\"].median()\n",
        "sex_offender_df.loc[sex_offender_df.height%100 >=12, 'height'] = sex_offender_df.loc[:,\"height\"].median()\n",
        "sex_offender_df[\"height\"]=((sex_offender_df[\"height\"]//100)*12)+sex_offender_df[\"height\"]%100"
      ],
      "execution_count": null,
      "outputs": []
    },
    {
      "cell_type": "markdown",
      "metadata": {
        "id": "NNXFwyo-44-g"
      },
      "source": [
        "##Charts"
      ]
    },
    {
      "cell_type": "markdown",
      "metadata": {
        "id": "f61G8gxZ9s1d"
      },
      "source": [
        "###Height and Weight of Sex Offenders\n",
        "One might that expect that intimidation is a helpful attribute for sex offenders. Thus, I would expect that the the height and weight of sex offenders to be higher than that of the average population. However, I would expect this to be more important when the victim is an adult, as height and weight are more important for intimidation in this case. When the victim is a minor, height and weight is less important since the fact that the offender is an adult can be intimidating enough. Therefore, I would expect the height and weight of sex offenders of adult victims to be higher than sex offenders of minor victims. Let's see what we get. (Note: The outliers from the weight boxplot have been removed to better visualize the range of the boxplots)"
      ]
    },
    {
      "cell_type": "code",
      "metadata": {
        "id": "UGzrS84dyV0U",
        "outputId": "8fba06a6-01c5-4218-b4b6-8855ac332ea1",
        "colab": {
          "base_uri": "https://localhost:8080/"
        }
      },
      "source": [
        "ax=sns.boxplot(x=\"victim_minor\", y=\"height\", data=sex_offender_df)\n",
        "ax.set(xlabel='Is Victim a Minor', ylabel='Height',title='Height of Offender Based on Age of Victim')"
      ],
      "execution_count": null,
      "outputs": [
        {
          "output_type": "execute_result",
          "data": {
            "text/plain": [
              "[Text(0, 0.5, 'Height'),\n",
              " Text(0.5, 0, 'Is Victim a Minor'),\n",
              " Text(0.5, 1.0, 'Height of Offender Based on Age of Victim')]"
            ]
          },
          "metadata": {
            "tags": []
          },
          "execution_count": 9
        },
        {
          "output_type": "display_data",
          "data": {
            "image/png": "[encoded data removed]",
            "text/plain": [
              "<Figure size 432x288 with 1 Axes>"
            ]
          },
          "metadata": {
            "tags": []
          }
        }
      ]
    },
    {
      "cell_type": "markdown",
      "metadata": {
        "id": "oqjR4a5uafAE"
      },
      "source": [
        "**Analysis:**\n",
        "It would appear that our hypothesis is correct. There is a slight increase in height (around 1 inch) when the victim is an adult vs. a minor. The 25%, 50% and 75% height for minor victims is 67, 69, 71 inches respectively vs. 68, 70, 72 inches for adults. Note that the height of offenders with minor victims is almost spot on for the general distribution of U.S. males (67.01, 69.17, 71.02), so there does seem to be a slight increase for adult victims over the general population."
      ]
    },
    {
      "cell_type": "code",
      "metadata": {
        "id": "BVnxOreV5mvk",
        "outputId": "5977119c-89b6-413f-eab2-bdd7bcb9d994",
        "colab": {
          "base_uri": "https://localhost:8080/"
        }
      },
      "source": [
        "ax=sns.boxplot(x=\"victim_minor\", y=\"weight\", data=sex_offender_df,showfliers=False)\n",
        "ax.set(xlabel='Is Victim a Minor', ylabel='Weight',title='Weight of Offender Based on Age of Victim')"
      ],
      "execution_count": null,
      "outputs": [
        {
          "output_type": "execute_result",
          "data": {
            "text/plain": [
              "[Text(0, 0.5, 'Weight'),\n",
              " Text(0.5, 0, 'Is Victim a Minor'),\n",
              " Text(0.5, 1.0, 'Weight of Offender Based on Age of Victim')]"
            ]
          },
          "metadata": {
            "tags": []
          },
          "execution_count": 10
        },
        {
          "output_type": "display_data",
          "data": {
            "image/png": "[encoded data removed]",
            "text/plain": [
              "<Figure size 432x288 with 1 Axes>"
            ]
          },
          "metadata": {
            "tags": []
          }
        }
      ]
    },
    {
      "cell_type": "markdown",
      "metadata": {
        "id": "QC12DEDXdNRC"
      },
      "source": [
        "**Analysis:**\n",
        "It would appear that our hypothesis is correct. There is a slight increase in weight (around 5-10 pounds) when the victim is an adult vs. a minor. The 25%, 50% and 75% weight for minor victims is 160, 185, 210 pounds respectively vs. 170, 190, 220 pounds for adults. Note that the general distribution of U.S. males is 164.9, 189.4, 222.4."
      ]
    },
    {
      "cell_type": "markdown",
      "metadata": {
        "id": "clzDCvCjBAE6"
      },
      "source": [
        "###Breakdown of Race\n",
        "Let us see the breakdown of sex offenders by race. Let's make a bar chart to see the count of each group and display the percentages of each group. Since there is one person with unknown race, we will exclude him from this chart."
      ]
    },
    {
      "cell_type": "code",
      "metadata": {
        "id": "dN6I_Qz77Jem",
        "outputId": "7524100e-ce37-415f-a0f2-dc6cb34485c4",
        "colab": {
          "base_uri": "https://localhost:8080/",
          "height": 590
        }
      },
      "source": [
        "fixed_race=sex_offender_df[sex_offender_df.race != 'UNKNOWN']\n",
        "\n",
        "ax = fixed_race['race'].value_counts().plot(kind='bar', figsize=(10,7),color=\"coral\", fontsize=13);\n",
        "ax.set_alpha(0.8)\n",
        "ax.set_title(\"Race of Sex Offenders\", fontsize=18)\n",
        "ax.set_xlabel(\"Frequency\", fontsize=18)\n",
        "ax.set_ylabel(\"Race\", fontsize=18)\n",
        "ax.set_xticks([0,100, 200, 300, 400, 500, 600, 700])\n",
        "\n",
        "totals = []\n",
        "\n",
        "for i in ax.patches:\n",
        "    totals.append(i.get_width())\n",
        "\n",
        "total = sum(totals)\n",
        "\n",
        "for i in ax.patches:\n",
        "    ax.text(i.get_width()+.3, i.get_y()+.38, str(round((i.get_width()/total)*100, 2))+'%', fontsize=15,color='dimgrey')\n",
        "ax.invert_yaxis()"
      ],
      "execution_count": null,
      "outputs": [
        {
          "output_type": "display_data",
          "data": {
            "image/png": "[encoded data removed]",
            "text/plain": [
              "<Figure size 720x504 with 1 Axes>"
            ]
          },
          "metadata": {
            "tags": []
          }
        }
      ]
    },
    {
      "cell_type": "markdown",
      "metadata": {
        "id": "Y_-TZxH_ePCe"
      },
      "source": [
        "**Analysis:**\n",
        "The race of sex offenders is overwhelmingly black, followed by whites and hispanics, and then a few asians/pacific islanders. However it is important to take into account the demographics of Chicago to better understand this. Based on 2016 data, white (non hispanic), blacks, hispanics, and asian/pacific islanders represent 32.6%, 29.3%, 29.7% and 5.4% respectively. Thus it would appear, blacks are greatly overrepresented among sex offenders."
      ]
    },
    {
      "cell_type": "markdown",
      "metadata": {
        "id": "C2TC0FlcBVuA"
      },
      "source": [
        "###Age Distribution of Sex Offenders\n",
        "Let's now see what is the distribution of the ages of registered sex offenders are."
      ]
    },
    {
      "cell_type": "code",
      "metadata": {
        "id": "5IhDi90h6kpV",
        "outputId": "7c90589c-b85b-4a3a-f547-78555f3fee7a",
        "colab": {
          "base_uri": "https://localhost:8080/"
        }
      },
      "source": [
        "plt.hist(sex_offender_df.age,bins=[15,20,25,30,35,40,45,50,55,60,65,70,75,80,85,90,95,100])\n",
        "plt.title('Age Distribution Of Sex Offenders')\n",
        "plt.xlabel(\"Age\")\n",
        "plt.ylabel(\"Frequency\")\n",
        "plt.show()"
      ],
      "execution_count": null,
      "outputs": [
        {
          "output_type": "display_data",
          "data": {
            "image/png": "[encoded data removed]",
            "text/plain": [
              "<Figure size 432x288 with 1 Axes>"
            ]
          },
          "metadata": {
            "tags": []
          }
        }
      ]
    },
    {
      "cell_type": "markdown",
      "metadata": {
        "id": "327RYMIJgg3B"
      },
      "source": [
        "**Analysis:**\n",
        "It would seeem that the ages of sex offenders are not uniform. As would be expected, there are not so many sex offenders among the older population. This is probably because physical strength is sometimes needed and because the intimidation factor is diminished if the offender is too old. The most common ages seem to fall between 35 and 60"
      ]
    },
    {
      "cell_type": "markdown",
      "metadata": {
        "id": "YoxRXaP8CmDD"
      },
      "source": [
        "###Percentages Overall and Within Each Race Group of Minor Victims\n",
        "Let us now compare the number of sex offender victims that are minors vs adults, overall and by race."
      ]
    },
    {
      "cell_type": "code",
      "metadata": {
        "id": "z6pn95YwiRlO",
        "outputId": "a5196304-14e8-4f62-f2fb-e4c773dbde2d",
        "colab": {
          "base_uri": "https://localhost:8080/"
        }
      },
      "source": [
        "sns.set(style=\"darkgrid\")\n",
        "ax = sns.countplot(x=\"victim_minor\",data=fixed_race)\n",
        "ax.set(xlabel='Is Victim a Minor', ylabel='Count',title='Number of Offenders Based on Victim\\'s Age')"
      ],
      "execution_count": null,
      "outputs": [
        {
          "output_type": "execute_result",
          "data": {
            "text/plain": [
              "[Text(0, 0.5, 'Count'),\n",
              " Text(0.5, 0, 'Is Victim a Minor'),\n",
              " Text(0.5, 1.0, \"Number of Offenders Based on Victim's Age\")]"
            ]
          },
          "metadata": {
            "tags": []
          },
          "execution_count": 13
        },
        {
          "output_type": "display_data",
          "data": {
            "image/png": "[encoded data removed]",
            "text/plain": [
              "<Figure size 432x288 with 1 Axes>"
            ]
          },
          "metadata": {
            "tags": []
          }
        }
      ]
    },
    {
      "cell_type": "markdown",
      "metadata": {
        "id": "tFjQN7q2iDXe"
      },
      "source": [
        "**Analysis:**\n",
        "The majority of victims are minors. Around 30% of victims are adults."
      ]
    },
    {
      "cell_type": "code",
      "metadata": {
        "id": "KuEZ8G-h6x-n",
        "outputId": "008b55cd-eacc-4657-8e33-56caaad07f00",
        "colab": {
          "base_uri": "https://localhost:8080/"
        }
      },
      "source": [
        "sns.set(style=\"darkgrid\")\n",
        "ax = sns.countplot(x=\"race\", hue=\"victim_minor\",data=fixed_race)\n",
        "ax.set_xticklabels(ax.get_xticklabels(),rotation=30)\n",
        "ax.set(xlabel='Race', ylabel='Count',title='Number of Offenders Based on Age of Victim Broken Down by Race')\n",
        "sns.set(rc={'figure.figsize':(19,16)})"
      ],
      "execution_count": null,
      "outputs": [
        {
          "output_type": "display_data",
          "data": {
            "image/png": "[encoded data removed]",
            "text/plain": [
              "<Figure size 432x288 with 1 Axes>"
            ]
          },
          "metadata": {
            "tags": []
          }
        }
      ]
    },
    {
      "cell_type": "markdown",
      "metadata": {
        "id": "wHXxPKvYifkU"
      },
      "source": [
        "**Analysis:**\n",
        "While all races follow the same pattern of having more minor victims, blacks have a significantly higher percentage of adult victims (around 1/3) than other races. Whites and hispanics seem about similar while there might not be enough data to make any conclusions about asians/pacific islanders."
      ]
    },
    {
      "cell_type": "markdown",
      "metadata": {
        "id": "T3YYiWZxjR_v"
      },
      "source": [
        "##Conclusion"
      ]
    },
    {
      "cell_type": "markdown",
      "metadata": {
        "id": "8kvnlhWjjhdM"
      },
      "source": [
        "Based on these results we have found the following findings:  \n",
        "1) Male sex offenders with adult victims are both slightly heavier and taller than those with younger victims.  \n",
        "2) Registered male sex offenders in Chicago are disproportionately black.  \n",
        "3) Male sex offenders vary in age but generally fall within the 35-60 age group.  \n",
        "4) Most male sex offenders have minor victims.  \n",
        "5) Black male sex offenders are more likely than other groups to have adult victims."
      ]
    }
  ]
}